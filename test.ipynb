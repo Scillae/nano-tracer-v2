{
 "cells": [
  {
   "cell_type": "code",
   "execution_count": 1,
   "metadata": {},
   "outputs": [],
   "source": [
    "from main import run_ns_pa_vstime_plot_single_shot, new_run_ns_pa_vstime_plot_single_shot"
   ]
  },
  {
   "cell_type": "code",
   "execution_count": 7,
   "outputs": [
    {
     "name": "stdout",
     "output_type": "stream",
     "text": [
      "save_load: path is data/result_cache_files/4arms/30C-0.5M-GPU/4arms@(30C,0.5M).si\n",
      "save_load: save / load both empty.\n",
      "save_load: path is data/result_cache_files/4arms/30C-0.5M-GPU/4arms@(30C,0.5M).ns\n",
      "save_load: loading!\n"
     ]
    }
   ],
   "source": [
    "r1 = run_ns_pa_vstime_plot_single_shot()"
   ],
   "metadata": {
    "collapsed": false
   }
  },
  {
   "cell_type": "code",
   "execution_count": 5,
   "outputs": [
    {
     "name": "stdout",
     "output_type": "stream",
     "text": [
      "save_load: path is data/result_cache_files/4arms/30C-0.5M-GPU/4arms@(30C,0.5M).si\n",
      "save_load: save / load both empty.\n",
      "save_load: path is data/result_cache_files/4arms/30C-0.5M-GPU/4arms@(30C,0.5M).ns\n",
      "save_load: loading!\n"
     ]
    },
    {
     "ename": "KeyboardInterrupt",
     "evalue": "",
     "output_type": "error",
     "traceback": [
      "\u001B[1;31m---------------------------------------------------------------------------\u001B[0m",
      "\u001B[1;31mKeyboardInterrupt\u001B[0m                         Traceback (most recent call last)",
      "Input \u001B[1;32mIn [5]\u001B[0m, in \u001B[0;36m<cell line: 1>\u001B[1;34m()\u001B[0m\n\u001B[1;32m----> 1\u001B[0m y \u001B[38;5;241m=\u001B[39m \u001B[43mnew_run_ns_pa_vstime_plot_single_shot\u001B[49m\u001B[43m(\u001B[49m\u001B[43m)\u001B[49m\n",
      "File \u001B[1;32mE:\\Scillae\\nano-tracer-v2\\main.py:83\u001B[0m, in \u001B[0;36mnew_run_ns_pa_vstime_plot_single_shot\u001B[1;34m()\u001B[0m\n\u001B[0;32m     81\u001B[0m data \u001B[38;5;241m=\u001B[39m generate_data_for_ns_pa_vstime_plot()\n\u001B[0;32m     82\u001B[0m \u001B[38;5;28;01mfrom\u001B[39;00m \u001B[38;5;21;01mcalc_tasks\u001B[39;00m\u001B[38;5;21;01m.\u001B[39;00m\u001B[38;5;21;01mstacking_local_identify_calc_new\u001B[39;00m \u001B[38;5;28;01mimport\u001B[39;00m stacking_local_identify_calc \u001B[38;5;28;01mas\u001B[39;00m slic\n\u001B[1;32m---> 83\u001B[0m \u001B[38;5;28;01mreturn\u001B[39;00m \u001B[43mslic\u001B[49m\u001B[43m(\u001B[49m\u001B[43mdata\u001B[49m\u001B[43m)\u001B[49m\n",
      "File \u001B[1;32mE:\\Scillae\\nano-tracer-v2\\calc_tasks\\stacking_local_identify_calc_new.py:68\u001B[0m, in \u001B[0;36mstacking_local_identify_calc\u001B[1;34m(data)\u001B[0m\n\u001B[0;32m     66\u001B[0m p_ls\u001B[38;5;241m.\u001B[39mpop(\u001B[38;5;241m0\u001B[39m) \u001B[38;5;66;03m# discard the first one: dist = 0, itself\u001B[39;00m\n\u001B[0;32m     67\u001B[0m \u001B[38;5;28;01mfor\u001B[39;00m d, p \u001B[38;5;129;01min\u001B[39;00m p_ls: \u001B[38;5;66;03m# distance d is named for possible future use\u001B[39;00m\n\u001B[1;32m---> 68\u001B[0m     \u001B[38;5;28;01mif\u001B[39;00m \u001B[43mcheck_if_bp\u001B[49m\u001B[43m(\u001B[49m\u001B[43mb\u001B[49m\u001B[43m,\u001B[49m\u001B[43m \u001B[49m\u001B[43mp\u001B[49m\u001B[43m)\u001B[49m: \u001B[38;5;66;03m# store 'paired' mis-matched bases in pair; register in used base pool\u001B[39;00m\n\u001B[0;32m     69\u001B[0m         mismatch_bp_ls\u001B[38;5;241m.\u001B[39mappend((b,p))\n\u001B[0;32m     70\u001B[0m         used_p_ls\u001B[38;5;241m.\u001B[39mappend(p)\n",
      "File \u001B[1;32mE:\\Scillae\\nano-tracer-v2\\calc_tasks\\stacking_local_identify_calc_new.py:243\u001B[0m, in \u001B[0;36mcheck_if_bp\u001B[1;34m(b1, b2)\u001B[0m\n\u001B[0;32m    241\u001B[0m is_disp_small \u001B[38;5;241m=\u001B[39m np\u001B[38;5;241m.\u001B[39mlinalg\u001B[38;5;241m.\u001B[39mnorm(disp) \u001B[38;5;241m<\u001B[39m \u001B[38;5;241m1.3\u001B[39m \u001B[38;5;241m*\u001B[39m \u001B[38;5;241m1.5\u001B[39m \u001B[38;5;66;03m# normal value: ~1.3 SU. 2 is ~150%*1.3\u001B[39;00m\n\u001B[0;32m    242\u001B[0m disp \u001B[38;5;241m/\u001B[39m\u001B[38;5;241m=\u001B[39m np\u001B[38;5;241m.\u001B[39mlinalg\u001B[38;5;241m.\u001B[39mnorm(disp)\n\u001B[1;32m--> 243\u001B[0m is_align_disp_b1 \u001B[38;5;241m=\u001B[39m np\u001B[38;5;241m.\u001B[39mabs(\u001B[43mnp\u001B[49m\u001B[38;5;241;43m.\u001B[39;49m\u001B[43mdot\u001B[49m\u001B[43m(\u001B[49m\u001B[43mdisp\u001B[49m\u001B[43m,\u001B[49m\u001B[43m \u001B[49m\u001B[43mnp\u001B[49m\u001B[38;5;241;43m.\u001B[39;49m\u001B[43marray\u001B[49m\u001B[43m(\u001B[49m\u001B[43mb1\u001B[49m\u001B[38;5;241;43m.\u001B[39;49m\u001B[43mbackbone\u001B[49m\u001B[43m)\u001B[49m\u001B[43m)\u001B[49m) \u001B[38;5;241m>\u001B[39m \u001B[38;5;241m0.5\u001B[39m\n\u001B[0;32m    244\u001B[0m is_align_disp_b2 \u001B[38;5;241m=\u001B[39m np\u001B[38;5;241m.\u001B[39mabs(np\u001B[38;5;241m.\u001B[39mdot(disp, np\u001B[38;5;241m.\u001B[39marray(b2\u001B[38;5;241m.\u001B[39mbackbone))) \u001B[38;5;241m>\u001B[39m \u001B[38;5;241m0.5\u001B[39m\n\u001B[0;32m    245\u001B[0m \u001B[38;5;28;01mreturn\u001B[39;00m is_oppos_dir \u001B[38;5;129;01mand\u001B[39;00m is_normal_align \u001B[38;5;129;01mand\u001B[39;00m is_disp_small \u001B[38;5;129;01mand\u001B[39;00m (is_align_disp_b1 \u001B[38;5;129;01mor\u001B[39;00m is_align_disp_b2) \u001B[38;5;129;01mand\u001B[39;00m (is_same_plane_b1 \u001B[38;5;129;01mor\u001B[39;00m is_same_plane_b2)\n",
      "File \u001B[1;32m<__array_function__ internals>:5\u001B[0m, in \u001B[0;36mdot\u001B[1;34m(*args, **kwargs)\u001B[0m\n",
      "\u001B[1;31mKeyboardInterrupt\u001B[0m: "
     ]
    }
   ],
   "source": [
    "r2 = new_run_ns_pa_vstime_plot_single_shot()"
   ],
   "metadata": {
    "collapsed": false
   }
  },
  {
   "cell_type": "code",
   "execution_count": null,
   "outputs": [],
   "source": [],
   "metadata": {
    "collapsed": false
   }
  }
 ],
 "metadata": {
  "kernelspec": {
   "display_name": "Python 3.8.11 ('Panda')",
   "language": "python",
   "name": "python3"
  },
  "language_info": {
   "codemirror_mode": {
    "name": "ipython",
    "version": 3
   },
   "file_extension": ".py",
   "mimetype": "text/x-python",
   "name": "python",
   "nbconvert_exporter": "python",
   "pygments_lexer": "ipython3",
   "version": "3.8.11"
  },
  "orig_nbformat": 4,
  "vscode": {
   "interpreter": {
    "hash": "9c788995b55bfceeb9898c88bef44a5dfb7251f39ed3e001075aa0f8200f225e"
   }
  }
 },
 "nbformat": 4,
 "nbformat_minor": 2
}
