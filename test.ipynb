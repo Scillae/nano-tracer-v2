{
 "cells": [
  {
   "cell_type": "code",
   "execution_count": 1,
   "metadata": {},
   "outputs": [],
   "source": [
    "from main import run_ns_pa_vstime_plot_single_shot, new_run_ns_pa_vstime_plot_single_shot"
   ]
  },
  {
   "cell_type": "code",
   "execution_count": 7,
   "outputs": [
    {
     "name": "stdout",
     "output_type": "stream",
     "text": [
      "save_load: path is data/result_cache_files/4arms/30C-0.5M-GPU/4arms@(30C,0.5M).k2\n",
      "save_load: save / load both empty.\n",
      "save_load: path is data/result_cache_files/4arms/30C-0.5M-GPU/4arms@(30C,0.5M).ns\n",
      "save_load: loading!\n",
      "save_load: path is data/result_cache_files/4arms/30C-0.5M-GPU/4arms@(30C,0.5M).k2\n",
      "save_load: saving!\n"
     ]
    }
   ],
   "source": [

    "from main import run_ns_pa_vstime_plot_single_shot\n",
    "run_ns_pa_vstime_plot_single_shot()\n"
   ]
  },
  {
   "cell_type": "code",
   "execution_count": 4,
   "metadata": {},
   "outputs": [
    {
     "name": "stdout",
     "output_type": "stream",
     "text": [
      "\n"
     ]
    }
   ],
   "source": [
    "import pickle\n",
    "k2_res = pickle.load(open('data/result_cache_files/4arms/30C-0.5M-GPU/4arms@(30C,0.5M).k2','rb'))\n",
    "print()"
   ]
  }
 ],
 "metadata": {
  "kernelspec": {
   "display_name": "Python 3.8.11 ('Panda')",
   "language": "python",
   "name": "python3"
  },
  "language_info": {
   "codemirror_mode": {
    "name": "ipython",
    "version": 3
   },
   "file_extension": ".py",
   "mimetype": "text/x-python",
   "name": "python",
   "nbconvert_exporter": "python",
   "pygments_lexer": "ipython3",
   "version": "3.8.11"
  },
  "orig_nbformat": 4,
  "vscode": {
   "interpreter": {
    "hash": "9c788995b55bfceeb9898c88bef44a5dfb7251f39ed3e001075aa0f8200f225e"
   }
  }
 },
 "nbformat": 4,
 "nbformat_minor": 2
}
